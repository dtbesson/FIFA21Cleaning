{
 "cells": [
  {
   "cell_type": "markdown",
   "id": "5153c21c",
   "metadata": {},
   "source": [
    "# Setup"
   ]
  },
  {
   "cell_type": "markdown",
   "id": "f21a2318",
   "metadata": {},
   "source": [
    "Import the packages we will be using."
   ]
  },
  {
   "cell_type": "code",
   "execution_count": 1,
   "id": "b2a2a943",
   "metadata": {},
   "outputs": [],
   "source": [
    "import pandas as pd\n",
    "import numpy as np\n",
    "import matplotlib.pyplot as plt\n",
    "import seaborn as sns\n",
    "import math"
   ]
  },
  {
   "cell_type": "markdown",
   "id": "8150c624",
   "metadata": {},
   "source": [
    "Load the .csv file into a numpy dataframe."
   ]
  },
  {
   "cell_type": "code",
   "execution_count": 2,
   "id": "69e2efb6",
   "metadata": {
    "scrolled": true
   },
   "outputs": [
    {
     "name": "stderr",
     "output_type": "stream",
     "text": [
      "C:\\Users\\besso\\anaconda3\\lib\\site-packages\\IPython\\core\\interactiveshell.py:3165: DtypeWarning: Columns (76) have mixed types.Specify dtype option on import or set low_memory=False.\n",
      "  has_raised = await self.run_ast_nodes(code_ast.body, cell_name,\n"
     ]
    }
   ],
   "source": [
    "df = pd.read_csv(r\"fifa21rawdata.csv\");"
   ]
  },
  {
   "cell_type": "markdown",
   "id": "33fe576e",
   "metadata": {},
   "source": [
    "Get a grasp of what the dataset contains."
   ]
  },
  {
   "cell_type": "code",
   "execution_count": 3,
   "id": "8cb9b86f",
   "metadata": {},
   "outputs": [
    {
     "data": {
      "text/html": [
       "<div>\n",
       "<style scoped>\n",
       "    .dataframe tbody tr th:only-of-type {\n",
       "        vertical-align: middle;\n",
       "    }\n",
       "\n",
       "    .dataframe tbody tr th {\n",
       "        vertical-align: top;\n",
       "    }\n",
       "\n",
       "    .dataframe thead th {\n",
       "        text-align: right;\n",
       "    }\n",
       "</style>\n",
       "<table border=\"1\" class=\"dataframe\">\n",
       "  <thead>\n",
       "    <tr style=\"text-align: right;\">\n",
       "      <th></th>\n",
       "      <th>ID</th>\n",
       "      <th>Name</th>\n",
       "      <th>LongName</th>\n",
       "      <th>photoUrl</th>\n",
       "      <th>playerUrl</th>\n",
       "      <th>Nationality</th>\n",
       "      <th>Age</th>\n",
       "      <th>↓OVA</th>\n",
       "      <th>POT</th>\n",
       "      <th>Club</th>\n",
       "      <th>...</th>\n",
       "      <th>A/W</th>\n",
       "      <th>D/W</th>\n",
       "      <th>IR</th>\n",
       "      <th>PAC</th>\n",
       "      <th>SHO</th>\n",
       "      <th>PAS</th>\n",
       "      <th>DRI</th>\n",
       "      <th>DEF</th>\n",
       "      <th>PHY</th>\n",
       "      <th>Hits</th>\n",
       "    </tr>\n",
       "  </thead>\n",
       "  <tbody>\n",
       "    <tr>\n",
       "      <th>0</th>\n",
       "      <td>158023</td>\n",
       "      <td>L. Messi</td>\n",
       "      <td>Lionel Messi</td>\n",
       "      <td>https://cdn.sofifa.com/players/158/023/21_60.png</td>\n",
       "      <td>http://sofifa.com/player/158023/lionel-messi/2...</td>\n",
       "      <td>Argentina</td>\n",
       "      <td>33</td>\n",
       "      <td>93</td>\n",
       "      <td>93</td>\n",
       "      <td>\\n\\n\\n\\nFC Barcelona</td>\n",
       "      <td>...</td>\n",
       "      <td>Medium</td>\n",
       "      <td>Low</td>\n",
       "      <td>5 ★</td>\n",
       "      <td>85</td>\n",
       "      <td>92</td>\n",
       "      <td>91</td>\n",
       "      <td>95</td>\n",
       "      <td>38</td>\n",
       "      <td>65</td>\n",
       "      <td>771</td>\n",
       "    </tr>\n",
       "    <tr>\n",
       "      <th>1</th>\n",
       "      <td>20801</td>\n",
       "      <td>Cristiano Ronaldo</td>\n",
       "      <td>C. Ronaldo dos Santos Aveiro</td>\n",
       "      <td>https://cdn.sofifa.com/players/020/801/21_60.png</td>\n",
       "      <td>http://sofifa.com/player/20801/c-ronaldo-dos-s...</td>\n",
       "      <td>Portugal</td>\n",
       "      <td>35</td>\n",
       "      <td>92</td>\n",
       "      <td>92</td>\n",
       "      <td>\\n\\n\\n\\nJuventus</td>\n",
       "      <td>...</td>\n",
       "      <td>High</td>\n",
       "      <td>Low</td>\n",
       "      <td>5 ★</td>\n",
       "      <td>89</td>\n",
       "      <td>93</td>\n",
       "      <td>81</td>\n",
       "      <td>89</td>\n",
       "      <td>35</td>\n",
       "      <td>77</td>\n",
       "      <td>562</td>\n",
       "    </tr>\n",
       "    <tr>\n",
       "      <th>2</th>\n",
       "      <td>200389</td>\n",
       "      <td>J. Oblak</td>\n",
       "      <td>Jan Oblak</td>\n",
       "      <td>https://cdn.sofifa.com/players/200/389/21_60.png</td>\n",
       "      <td>http://sofifa.com/player/200389/jan-oblak/210006/</td>\n",
       "      <td>Slovenia</td>\n",
       "      <td>27</td>\n",
       "      <td>91</td>\n",
       "      <td>93</td>\n",
       "      <td>\\n\\n\\n\\nAtlético Madrid</td>\n",
       "      <td>...</td>\n",
       "      <td>Medium</td>\n",
       "      <td>Medium</td>\n",
       "      <td>3 ★</td>\n",
       "      <td>87</td>\n",
       "      <td>92</td>\n",
       "      <td>78</td>\n",
       "      <td>90</td>\n",
       "      <td>52</td>\n",
       "      <td>90</td>\n",
       "      <td>150</td>\n",
       "    </tr>\n",
       "    <tr>\n",
       "      <th>3</th>\n",
       "      <td>192985</td>\n",
       "      <td>K. De Bruyne</td>\n",
       "      <td>Kevin De Bruyne</td>\n",
       "      <td>https://cdn.sofifa.com/players/192/985/21_60.png</td>\n",
       "      <td>http://sofifa.com/player/192985/kevin-de-bruyn...</td>\n",
       "      <td>Belgium</td>\n",
       "      <td>29</td>\n",
       "      <td>91</td>\n",
       "      <td>91</td>\n",
       "      <td>\\n\\n\\n\\nManchester City</td>\n",
       "      <td>...</td>\n",
       "      <td>High</td>\n",
       "      <td>High</td>\n",
       "      <td>4 ★</td>\n",
       "      <td>76</td>\n",
       "      <td>86</td>\n",
       "      <td>93</td>\n",
       "      <td>88</td>\n",
       "      <td>64</td>\n",
       "      <td>78</td>\n",
       "      <td>207</td>\n",
       "    </tr>\n",
       "    <tr>\n",
       "      <th>4</th>\n",
       "      <td>190871</td>\n",
       "      <td>Neymar Jr</td>\n",
       "      <td>Neymar da Silva Santos Jr.</td>\n",
       "      <td>https://cdn.sofifa.com/players/190/871/21_60.png</td>\n",
       "      <td>http://sofifa.com/player/190871/neymar-da-silv...</td>\n",
       "      <td>Brazil</td>\n",
       "      <td>28</td>\n",
       "      <td>91</td>\n",
       "      <td>91</td>\n",
       "      <td>\\n\\n\\n\\nParis Saint-Germain</td>\n",
       "      <td>...</td>\n",
       "      <td>High</td>\n",
       "      <td>Medium</td>\n",
       "      <td>5 ★</td>\n",
       "      <td>91</td>\n",
       "      <td>85</td>\n",
       "      <td>86</td>\n",
       "      <td>94</td>\n",
       "      <td>36</td>\n",
       "      <td>59</td>\n",
       "      <td>595</td>\n",
       "    </tr>\n",
       "  </tbody>\n",
       "</table>\n",
       "<p>5 rows × 77 columns</p>\n",
       "</div>"
      ],
      "text/plain": [
       "       ID               Name                      LongName  \\\n",
       "0  158023           L. Messi                  Lionel Messi   \n",
       "1   20801  Cristiano Ronaldo  C. Ronaldo dos Santos Aveiro   \n",
       "2  200389           J. Oblak                     Jan Oblak   \n",
       "3  192985       K. De Bruyne               Kevin De Bruyne   \n",
       "4  190871          Neymar Jr    Neymar da Silva Santos Jr.   \n",
       "\n",
       "                                           photoUrl  \\\n",
       "0  https://cdn.sofifa.com/players/158/023/21_60.png   \n",
       "1  https://cdn.sofifa.com/players/020/801/21_60.png   \n",
       "2  https://cdn.sofifa.com/players/200/389/21_60.png   \n",
       "3  https://cdn.sofifa.com/players/192/985/21_60.png   \n",
       "4  https://cdn.sofifa.com/players/190/871/21_60.png   \n",
       "\n",
       "                                           playerUrl Nationality  Age  ↓OVA  \\\n",
       "0  http://sofifa.com/player/158023/lionel-messi/2...   Argentina   33    93   \n",
       "1  http://sofifa.com/player/20801/c-ronaldo-dos-s...    Portugal   35    92   \n",
       "2  http://sofifa.com/player/200389/jan-oblak/210006/    Slovenia   27    91   \n",
       "3  http://sofifa.com/player/192985/kevin-de-bruyn...     Belgium   29    91   \n",
       "4  http://sofifa.com/player/190871/neymar-da-silv...      Brazil   28    91   \n",
       "\n",
       "   POT                         Club  ...     A/W     D/W   IR PAC SHO  PAS  \\\n",
       "0   93         \\n\\n\\n\\nFC Barcelona  ...  Medium     Low  5 ★  85  92   91   \n",
       "1   92             \\n\\n\\n\\nJuventus  ...    High     Low  5 ★  89  93   81   \n",
       "2   93      \\n\\n\\n\\nAtlético Madrid  ...  Medium  Medium  3 ★  87  92   78   \n",
       "3   91      \\n\\n\\n\\nManchester City  ...    High    High  4 ★  76  86   93   \n",
       "4   91  \\n\\n\\n\\nParis Saint-Germain  ...    High  Medium  5 ★  91  85   86   \n",
       "\n",
       "  DRI DEF PHY Hits  \n",
       "0  95  38  65  771  \n",
       "1  89  35  77  562  \n",
       "2  90  52  90  150  \n",
       "3  88  64  78  207  \n",
       "4  94  36  59  595  \n",
       "\n",
       "[5 rows x 77 columns]"
      ]
     },
     "execution_count": 3,
     "metadata": {},
     "output_type": "execute_result"
    }
   ],
   "source": [
    "df.head()"
   ]
  },
  {
   "cell_type": "code",
   "execution_count": 4,
   "id": "78634242",
   "metadata": {
    "scrolled": false
   },
   "outputs": [
    {
     "name": "stdout",
     "output_type": "stream",
     "text": [
      "<class 'pandas.core.frame.DataFrame'>\n",
      "RangeIndex: 18979 entries, 0 to 18978\n",
      "Data columns (total 77 columns):\n",
      " #   Column            Non-Null Count  Dtype \n",
      "---  ------            --------------  ----- \n",
      " 0   ID                18979 non-null  int64 \n",
      " 1   Name              18979 non-null  object\n",
      " 2   LongName          18979 non-null  object\n",
      " 3   photoUrl          18979 non-null  object\n",
      " 4   playerUrl         18979 non-null  object\n",
      " 5   Nationality       18979 non-null  object\n",
      " 6   Age               18979 non-null  int64 \n",
      " 7   ↓OVA              18979 non-null  int64 \n",
      " 8   POT               18979 non-null  int64 \n",
      " 9   Club              18979 non-null  object\n",
      " 10  Contract          18979 non-null  object\n",
      " 11  Positions         18979 non-null  object\n",
      " 12  Height            18979 non-null  object\n",
      " 13  Weight            18979 non-null  object\n",
      " 14  Preferred Foot    18979 non-null  object\n",
      " 15  BOV               18979 non-null  int64 \n",
      " 16  Best Position     18979 non-null  object\n",
      " 17  Joined            18979 non-null  object\n",
      " 18  Loan Date End     1013 non-null   object\n",
      " 19  Value             18979 non-null  object\n",
      " 20  Wage              18979 non-null  object\n",
      " 21  Release Clause    18979 non-null  object\n",
      " 22  Attacking         18979 non-null  int64 \n",
      " 23  Crossing          18979 non-null  int64 \n",
      " 24  Finishing         18979 non-null  int64 \n",
      " 25  Heading Accuracy  18979 non-null  int64 \n",
      " 26  Short Passing     18979 non-null  int64 \n",
      " 27  Volleys           18979 non-null  int64 \n",
      " 28  Skill             18979 non-null  int64 \n",
      " 29  Dribbling         18979 non-null  int64 \n",
      " 30  Curve             18979 non-null  int64 \n",
      " 31  FK Accuracy       18979 non-null  int64 \n",
      " 32  Long Passing      18979 non-null  int64 \n",
      " 33  Ball Control      18979 non-null  int64 \n",
      " 34  Movement          18979 non-null  int64 \n",
      " 35  Acceleration      18979 non-null  int64 \n",
      " 36  Sprint Speed      18979 non-null  int64 \n",
      " 37  Agility           18979 non-null  int64 \n",
      " 38  Reactions         18979 non-null  int64 \n",
      " 39  Balance           18979 non-null  int64 \n",
      " 40  Power             18979 non-null  int64 \n",
      " 41  Shot Power        18979 non-null  int64 \n",
      " 42  Jumping           18979 non-null  int64 \n",
      " 43  Stamina           18979 non-null  int64 \n",
      " 44  Strength          18979 non-null  int64 \n",
      " 45  Long Shots        18979 non-null  int64 \n",
      " 46  Mentality         18979 non-null  int64 \n",
      " 47  Aggression        18979 non-null  int64 \n",
      " 48  Interceptions     18979 non-null  int64 \n",
      " 49  Positioning       18979 non-null  int64 \n",
      " 50  Vision            18979 non-null  int64 \n",
      " 51  Penalties         18979 non-null  int64 \n",
      " 52  Composure         18979 non-null  int64 \n",
      " 53  Defending         18979 non-null  int64 \n",
      " 54  Marking           18979 non-null  int64 \n",
      " 55  Standing Tackle   18979 non-null  int64 \n",
      " 56  Sliding Tackle    18979 non-null  int64 \n",
      " 57  Goalkeeping       18979 non-null  int64 \n",
      " 58  GK Diving         18979 non-null  int64 \n",
      " 59  GK Handling       18979 non-null  int64 \n",
      " 60  GK Kicking        18979 non-null  int64 \n",
      " 61  GK Positioning    18979 non-null  int64 \n",
      " 62  GK Reflexes       18979 non-null  int64 \n",
      " 63  Total Stats       18979 non-null  int64 \n",
      " 64  Base Stats        18979 non-null  int64 \n",
      " 65  W/F               18979 non-null  object\n",
      " 66  SM                18979 non-null  object\n",
      " 67  A/W               18979 non-null  object\n",
      " 68  D/W               18979 non-null  object\n",
      " 69  IR                18979 non-null  object\n",
      " 70  PAC               18979 non-null  int64 \n",
      " 71  SHO               18979 non-null  int64 \n",
      " 72  PAS               18979 non-null  int64 \n",
      " 73  DRI               18979 non-null  int64 \n",
      " 74  DEF               18979 non-null  int64 \n",
      " 75  PHY               18979 non-null  int64 \n",
      " 76  Hits              16384 non-null  object\n",
      "dtypes: int64(54), object(23)\n",
      "memory usage: 11.1+ MB\n"
     ]
    }
   ],
   "source": [
    "df.info()"
   ]
  },
  {
   "cell_type": "markdown",
   "id": "864ead63",
   "metadata": {},
   "source": [
    "# Q1. Convert the height and weight columns to numerical forms.\n",
    "First observe some of the values we have in each of these columns."
   ]
  },
  {
   "cell_type": "code",
   "execution_count": 5,
   "id": "6b561fc2",
   "metadata": {
    "scrolled": true
   },
   "outputs": [
    {
     "data": {
      "text/plain": [
       "array(['170cm', '187cm', '188cm', '181cm', '175cm', '184cm', '191cm',\n",
       "       '178cm', '193cm', '185cm', '199cm', '173cm', '168cm', '176cm',\n",
       "       '177cm', '183cm', '180cm', '189cm', '179cm', '195cm', '172cm',\n",
       "       '182cm', '186cm', '192cm', '165cm', '194cm', '167cm', '196cm',\n",
       "       '163cm', '190cm', '174cm', '169cm', '171cm', '197cm', '200cm',\n",
       "       '166cm', '6\\'2\"', '164cm', '198cm', '6\\'3\"', '6\\'5\"', '5\\'11\"',\n",
       "       '6\\'4\"', '6\\'1\"', '6\\'0\"', '5\\'10\"', '5\\'9\"', '5\\'6\"', '5\\'7\"',\n",
       "       '5\\'4\"', '201cm', '158cm', '162cm', '161cm', '160cm', '203cm',\n",
       "       '157cm', '156cm', '202cm', '159cm', '206cm', '155cm'], dtype=object)"
      ]
     },
     "execution_count": 5,
     "metadata": {},
     "output_type": "execute_result"
    }
   ],
   "source": [
    "df['Height'].unique()"
   ]
  },
  {
   "cell_type": "code",
   "execution_count": 6,
   "id": "f3070dde",
   "metadata": {},
   "outputs": [
    {
     "data": {
      "text/plain": [
       "array(['72kg', '83kg', '87kg', '70kg', '68kg', '80kg', '71kg', '91kg',\n",
       "       '73kg', '85kg', '92kg', '69kg', '84kg', '96kg', '81kg', '82kg',\n",
       "       '75kg', '86kg', '89kg', '74kg', '76kg', '64kg', '78kg', '90kg',\n",
       "       '66kg', '60kg', '94kg', '79kg', '67kg', '65kg', '59kg', '61kg',\n",
       "       '93kg', '88kg', '97kg', '77kg', '62kg', '63kg', '95kg', '100kg',\n",
       "       '58kg', '183lbs', '179lbs', '172lbs', '196lbs', '176lbs', '185lbs',\n",
       "       '170lbs', '203lbs', '168lbs', '161lbs', '146lbs', '130lbs',\n",
       "       '190lbs', '174lbs', '148lbs', '165lbs', '159lbs', '192lbs',\n",
       "       '181lbs', '139lbs', '154lbs', '157lbs', '163lbs', '98kg', '103kg',\n",
       "       '99kg', '102kg', '56kg', '101kg', '57kg', '55kg', '104kg', '107kg',\n",
       "       '110kg', '53kg', '50kg', '54kg', '52kg'], dtype=object)"
      ]
     },
     "execution_count": 6,
     "metadata": {},
     "output_type": "execute_result"
    }
   ],
   "source": [
    "df['Weight'].unique()"
   ]
  },
  {
   "cell_type": "markdown",
   "id": "990a3ec0",
   "metadata": {},
   "source": [
    "We have a mix of metric and imperial units in both. We write two functions which convert the imperial units into metric units."
   ]
  },
  {
   "cell_type": "code",
   "execution_count": 7,
   "id": "c467c321",
   "metadata": {},
   "outputs": [],
   "source": [
    "def ft_to_cm(x):\n",
    "    # identify entries in feet\n",
    "    if \"\\'\" in x:\n",
    "        # format slightly\n",
    "        x = x.replace('\"','')\n",
    "        # convert to a length 2 list, first entry feet, second entry inches\n",
    "        y = x.split(\"\\'\")\n",
    "        # conversion to cm\n",
    "        cm = (int(y[0]) * 30.48) + (int(y[1]) * 2.54)\n",
    "        # round to a whole number and convert to int data type\n",
    "        return int(round(cm,0))\n",
    "    # identify entries already in cm\n",
    "    else:\n",
    "        # remove the cm phrase\n",
    "        x=x.replace(\"cm\",\"\")\n",
    "        # convert to int data type\n",
    "        return int(x)\n",
    "\n",
    "def lb_to_kg(x):\n",
    "    # identify entries in lbs\n",
    "    if \"lbs\" in x:\n",
    "        # remove the lbs phrase\n",
    "        x = x.replace(\"lbs\",\"\")\n",
    "        # conversion to kg\n",
    "        kg = int(x) * 0.453592\n",
    "        # round to a whole number and convert to int data type\n",
    "        return int(round(kg,0))\n",
    "    # identify entries already in kgs\n",
    "    else:\n",
    "        # remove kg phrase\n",
    "        x = x.replace(\"kg\",\"\")\n",
    "        # convert to int data type\n",
    "        return(int(x))"
   ]
  },
  {
   "cell_type": "markdown",
   "id": "4fd0150c",
   "metadata": {},
   "source": [
    "Apply these new functions to our columns."
   ]
  },
  {
   "cell_type": "code",
   "execution_count": 8,
   "id": "74f55a81",
   "metadata": {},
   "outputs": [],
   "source": [
    "df['Height'] = df['Height'].apply(ft_to_cm)\n",
    "df['Weight'] = df['Weight'].apply(lb_to_kg)"
   ]
  },
  {
   "cell_type": "markdown",
   "id": "2bc6dc77",
   "metadata": {},
   "source": [
    "Double check that they have been applied correctly."
   ]
  },
  {
   "cell_type": "code",
   "execution_count": 9,
   "id": "9a651ca5",
   "metadata": {},
   "outputs": [
    {
     "data": {
      "text/plain": [
       "array([170, 187, 188, 181, 175, 184, 191, 178, 193, 185, 199, 173, 168,\n",
       "       176, 177, 183, 180, 189, 179, 195, 172, 182, 186, 192, 165, 194,\n",
       "       167, 196, 163, 190, 174, 169, 171, 197, 200, 166, 164, 198, 201,\n",
       "       158, 162, 161, 160, 203, 157, 156, 202, 159, 206, 155], dtype=int64)"
      ]
     },
     "execution_count": 9,
     "metadata": {},
     "output_type": "execute_result"
    }
   ],
   "source": [
    "df['Height'].unique()"
   ]
  },
  {
   "cell_type": "code",
   "execution_count": 10,
   "id": "25e29e4d",
   "metadata": {
    "scrolled": true
   },
   "outputs": [
    {
     "data": {
      "text/plain": [
       "array([ 72,  83,  87,  70,  68,  80,  71,  91,  73,  85,  92,  69,  84,\n",
       "        96,  81,  82,  75,  86,  89,  74,  76,  64,  78,  90,  66,  60,\n",
       "        94,  79,  67,  65,  59,  61,  93,  88,  97,  77,  62,  63,  95,\n",
       "       100,  58,  98, 103,  99, 102,  56, 101,  57,  55, 104, 107, 110,\n",
       "        53,  50,  54,  52], dtype=int64)"
      ]
     },
     "execution_count": 10,
     "metadata": {},
     "output_type": "execute_result"
    }
   ],
   "source": [
    "df['Weight'].unique()"
   ]
  },
  {
   "cell_type": "markdown",
   "id": "2ac73852",
   "metadata": {},
   "source": [
    "# Q2. Remove unnecessary newline characters."
   ]
  },
  {
   "cell_type": "markdown",
   "id": "401ddff6",
   "metadata": {},
   "source": [
    "On first sight, I can only see the 'clubs' column with any newline characters. But to be safe, we should remove any \\n phrases within all the columns. We do not need to check those columns with int or float data types."
   ]
  },
  {
   "cell_type": "code",
   "execution_count": 11,
   "id": "8429f7e1",
   "metadata": {},
   "outputs": [],
   "source": [
    "# iterate over every column with the object (i.e. string) data type\n",
    "for column in df:\n",
    "    # pick out the columns with the object data type, as the 'replace' function will not work on numerical data type columns\n",
    "    column_type = df[column].dtype\n",
    "    if column_type == 'object':\n",
    "        # remove the \\n phrases\n",
    "        df[column] = df[column].str.replace(\"\\n\",\"\")"
   ]
  },
  {
   "cell_type": "markdown",
   "id": "cd203265",
   "metadata": {},
   "source": [
    "# Q3. Based on the 'joined' column, check which players have been playing at a club for over 10 years.\n",
    "NOTE: Since this dataset is not constantly being updated, if we were to use today's date to identify these players, there will be a day in the future where every player would be on this list! Thus, I will use the release date of FIFA21 in the UK as \"today's date\" when tackling this question.\n",
    "\n",
    "The 'Joined' column shows the date that the player joined their club. It is currently an object (string) datatype."
   ]
  },
  {
   "cell_type": "code",
   "execution_count": 12,
   "id": "5660e17e",
   "metadata": {
    "scrolled": true
   },
   "outputs": [
    {
     "data": {
      "text/plain": [
       "0   2004-07-01\n",
       "1   2018-07-10\n",
       "2   2014-07-16\n",
       "3   2015-08-30\n",
       "4   2017-08-03\n",
       "Name: Joined, dtype: datetime64[ns]"
      ]
     },
     "execution_count": 12,
     "metadata": {},
     "output_type": "execute_result"
    }
   ],
   "source": [
    "df['Joined'] = pd.to_datetime(df['Joined'])\n",
    "df['Joined'].head()"
   ]
  },
  {
   "cell_type": "markdown",
   "id": "a617894e",
   "metadata": {},
   "source": [
    "Double-check that the latest date within this 'Joined' column is before the release date for FIFA21, or else we will run into errors when making calculations."
   ]
  },
  {
   "cell_type": "code",
   "execution_count": 13,
   "id": "267bce46",
   "metadata": {},
   "outputs": [
    {
     "data": {
      "text/plain": [
       "Timestamp('2020-10-08 00:00:00')"
      ]
     },
     "execution_count": 13,
     "metadata": {},
     "output_type": "execute_result"
    }
   ],
   "source": [
    "df['Joined'].max()"
   ]
  },
  {
   "cell_type": "markdown",
   "id": "e81232f4",
   "metadata": {},
   "source": [
    "Create a column whose entries are all the date of release for FIFA21. We do it as a column to make the calculation easier. We will drop this column later on."
   ]
  },
  {
   "cell_type": "code",
   "execution_count": 14,
   "id": "73f973a3",
   "metadata": {},
   "outputs": [
    {
     "data": {
      "text/plain": [
       "0   2020-10-09\n",
       "1   2020-10-09\n",
       "2   2020-10-09\n",
       "3   2020-10-09\n",
       "4   2020-10-09\n",
       "Name: todays_date, dtype: datetime64[ns]"
      ]
     },
     "execution_count": 14,
     "metadata": {},
     "output_type": "execute_result"
    }
   ],
   "source": [
    "# FIFA21 was released on the 9th October 2020\n",
    "df['todays_date'] = pd.to_datetime(\"2020-10-09\")\n",
    "df['todays_date'].head()"
   ]
  },
  {
   "cell_type": "markdown",
   "id": "93ae40b2",
   "metadata": {},
   "source": [
    "Create a column with the number of days the player has been at given club."
   ]
  },
  {
   "cell_type": "code",
   "execution_count": 15,
   "id": "255fdb6d",
   "metadata": {},
   "outputs": [
    {
     "data": {
      "text/plain": [
       "0    5944\n",
       "1     822\n",
       "2    2277\n",
       "3    1867\n",
       "4    1163\n",
       "Name: date_difference, dtype: int64"
      ]
     },
     "execution_count": 15,
     "metadata": {},
     "output_type": "execute_result"
    }
   ],
   "source": [
    "# calculate the difference in days\n",
    "df['date_difference'] = df['todays_date'] - df['Joined'] \n",
    "# convert to an integer instead of timedelta64 data type\n",
    "df['date_difference'] = df['date_difference'].dt.days\n",
    "df['date_difference'].head()"
   ]
  },
  {
   "cell_type": "markdown",
   "id": "081b1113",
   "metadata": {},
   "source": [
    "Create a column of boolean values, 'True' if the player has been at the club for 10 years, 'False' if not. Note that 10 years is 3652.5 days."
   ]
  },
  {
   "cell_type": "code",
   "execution_count": 16,
   "id": "17fa7542",
   "metadata": {
    "scrolled": false
   },
   "outputs": [
    {
     "data": {
      "text/plain": [
       "0      True\n",
       "1     False\n",
       "2     False\n",
       "3     False\n",
       "4     False\n",
       "5     False\n",
       "6     False\n",
       "7     False\n",
       "8     False\n",
       "9     False\n",
       "10    False\n",
       "11    False\n",
       "12    False\n",
       "13    False\n",
       "14    False\n",
       "15     True\n",
       "16     True\n",
       "17    False\n",
       "18    False\n",
       "19    False\n",
       "Name: ten_years, dtype: bool"
      ]
     },
     "execution_count": 16,
     "metadata": {},
     "output_type": "execute_result"
    }
   ],
   "source": [
    "df['ten_years'] = np.where(df['date_difference'] > 3652.5, True, False)\n",
    "df['ten_years'].head(20)"
   ]
  },
  {
   "cell_type": "markdown",
   "id": "ecab0c09",
   "metadata": {},
   "source": [
    "Drop the temporary columns."
   ]
  },
  {
   "cell_type": "code",
   "execution_count": 17,
   "id": "c8ede87f",
   "metadata": {},
   "outputs": [],
   "source": [
    "columns_to_drop = ['todays_date', 'date_difference']\n",
    "df.drop(columns = columns_to_drop, axis = 1, inplace = True)"
   ]
  },
  {
   "cell_type": "markdown",
   "id": "21c27283",
   "metadata": {},
   "source": [
    "Depending on the context of the project, we can then use this new boolean column to retrieve the names of those such players!"
   ]
  },
  {
   "cell_type": "code",
   "execution_count": 18,
   "id": "cc385d06",
   "metadata": {},
   "outputs": [
    {
     "data": {
      "text/plain": [
       "0            L. Messi\n",
       "15         K. Benzema\n",
       "16       Sergio Ramos\n",
       "23            H. Kane\n",
       "39       G. Chiellini\n",
       "             ...     \n",
       "15904          Sun Bo\n",
       "16109        K. Miura\n",
       "16519     J. Popelard\n",
       "16709     M. Al Wakid\n",
       "17186      Yao Hanlin\n",
       "Name: Name, Length: 203, dtype: object"
      ]
     },
     "execution_count": 18,
     "metadata": {},
     "output_type": "execute_result"
    }
   ],
   "source": [
    "# create a filtered version of the database with only the players who have played at the same club for 10 years\n",
    "ten_years_players = df[df['ten_years']]\n",
    "# return these players names\n",
    "ten_years_players['Name']"
   ]
  },
  {
   "cell_type": "markdown",
   "id": "bdbd0462",
   "metadata": {},
   "source": [
    "# Q4. Convert the 'Value', 'Wage' and 'Release Clause' columns from strings to numbers.\n",
    "Observe the values within each of these columns to get a feel."
   ]
  },
  {
   "cell_type": "code",
   "execution_count": 19,
   "id": "92a43e53",
   "metadata": {
    "scrolled": true
   },
   "outputs": [
    {
     "data": {
      "text/plain": [
       "array(['€103.5M', '€63M', '€120M', '€129M', '€132M', '€111M', '€120.5M',\n",
       "       '€102M', '€185.5M', '€110M', '€113M', '€90.5M', '€82M', '€17.5M',\n",
       "       '€83.5M', '€33.5M', '€114.5M', '€78M', '€103M', '€109M', '€92M',\n",
       "       '€10M', '€76.5M', '€89.5M', '€87.5M', '€79.5M', '€124M', '€114M',\n",
       "       '€95M', '€92.5M', '€105.5M', '€88.5M', '€85M', '€81.5M', '€26M',\n",
       "       '€21M', '€56M', '€67.5M', '€53M', '€36.5M', '€51M', '€65.5M',\n",
       "       '€46.5M', '€61.5M', '€72.5M', '€77.5M', '€43.5M', '€32.5M', '€36M',\n",
       "       '€32M', '€54M', '€49.5M', '€57M', '€66.5M', '€74.5M', '€71.5M',\n",
       "       '€121M', '€99M', '€67M', '€86.5M', '€93.5M', '€70M', '€62M',\n",
       "       '€66M', '€58M', '€44M', '€81M', '€37M', '€14.5M', '€46M', '€47.5M',\n",
       "       '€52.5M', '€54.5M', '€34.5M', '€57.5M', '€51.5M', '€44.5M', '€55M',\n",
       "       '€48M', '€60.5M', '€63.5M', '€61M', '€29M', '€58.5M', '€55.5M',\n",
       "       '€42M', '€40.5M', '€43M', '€45.5M', '€34M', '€26.5M', '€42.5M',\n",
       "       '€35.5M', '€45M', '€41.5M', '€40M', '€11M', '€13.5M', '€29.5M',\n",
       "       '€27M', '€15.5M', '€38.5M', '€52M', '€33M', '€19M', '€73.5M',\n",
       "       '€38M', '€35M', '€47M', '€24M', '€30.5M', '€18M', '€28M', '€25.5M',\n",
       "       '€25M', '€31M', '€23.5M', '€30M', '€31.5M', '€22.5M', '€28.5M',\n",
       "       '€4M', '€12.5M', '€37.5M', '€27.5M', '€16M', '€15M', '€20.5M',\n",
       "       '€22M', '€3.4M', '€5M', '€56.5M', '€62.5M', '€0', '€39M', '€24.5M',\n",
       "       '€21.5M', '€13M', '€8M', '€20M', '€8.5M', '€2.9M', '€9M', '€4.6M',\n",
       "       '€50M', '€23M', '€18.5M', '€7M', '€19.5M', '€5.5M', '€7.5M',\n",
       "       '€3.8M', '€14M', '€10.5M', '€16.5M', '€3.6M', '€9.5M', '€39.5M',\n",
       "       '€17M', '€12M', '€11.5M', '€4.9M', '€3M', '€1.9M', '€6.5M',\n",
       "       '€1.7M', '€2.4M', '€3.1M', '€6M', '€3.7M', '€4.7M', '€4.3M',\n",
       "       '€2.1M', '€1.2M', '€1.8M', '€4.8M', '€3.2M', '€1.3M', '€825K',\n",
       "       '€2.3M', '€1.5M', '€3.9M', '€2.6M', '€3.5M', '€2.8M', '€2.7M',\n",
       "       '€4.4M', '€4.1M', '€950K', '€1.6M', '€625K', '€1.1M', '€4.5M',\n",
       "       '€4.2M', '€2.2M', '€3.3M', '€1.4M', '€2M', '€475K', '€925K',\n",
       "       '€750K', '€725K', '€2.5M', '€1M', '€350K', '€525K', '€600K',\n",
       "       '€850K', '€800K', '€550K', '€250K', '€400K', '€425K', '€575K',\n",
       "       '€210K', '€325K', '€900K', '€875K', '€650K', '€700K', '€500K',\n",
       "       '€975K', '€375K', '€775K', '€275K', '€180K', '€450K', '€675K',\n",
       "       '€150K', '€240K', '€300K', '€130K', '€220K', '€200K', '€110K',\n",
       "       '€170K', '€230K', '€90K', '€120K', '€80K', '€190K', '€140K',\n",
       "       '€160K', '€100K', '€60K', '€50K', '€70K', '€45K', '€35K', '€40K',\n",
       "       '€25K', '€20K', '€15K', '€30K', '€9K'], dtype=object)"
      ]
     },
     "execution_count": 19,
     "metadata": {},
     "output_type": "execute_result"
    }
   ],
   "source": [
    "df['Value'].unique()"
   ]
  },
  {
   "cell_type": "code",
   "execution_count": 20,
   "id": "d7e2c557",
   "metadata": {},
   "outputs": [
    {
     "data": {
      "text/plain": [
       "array(['€560K', '€220K', '€125K', '€370K', '€270K', '€240K', '€250K',\n",
       "       '€160K', '€260K', '€210K', '€310K', '€130K', '€350K', '€300K',\n",
       "       '€190K', '€145K', '€195K', '€100K', '€140K', '€290K', '€82K',\n",
       "       '€110K', '€230K', '€155K', '€200K', '€165K', '€95K', '€170K',\n",
       "       '€105K', '€115K', '€150K', '€135K', '€55K', '€58K', '€81K', '€34K',\n",
       "       '€120K', '€59K', '€90K', '€65K', '€56K', '€71K', '€18K', '€75K',\n",
       "       '€47K', '€20K', '€84K', '€86K', '€74K', '€78K', '€27K', '€68K',\n",
       "       '€85K', '€25K', '€46K', '€83K', '€54K', '€79K', '€175K', '€43K',\n",
       "       '€49K', '€45K', '€38K', '€41K', '€39K', '€23K', '€51K', '€50K',\n",
       "       '€87K', '€30K', '€14K', '€69K', '€31K', '€64K', '€53K', '€35K',\n",
       "       '€21K', '€28K', '€17K', '€33K', '€70K', '€32K', '€89K', '€26K',\n",
       "       '€40K', '€76K', '€72K', '€48K', '€36K', '€29K', '€60K', '€16K',\n",
       "       '€37K', '€24K', '€52K', '€0', '€62K', '€73K', '€63K', '€19K',\n",
       "       '€1K', '€66K', '€80K', '€12K', '€2K', '€42K', '€13K', '€900',\n",
       "       '€57K', '€77K', '€61K', '€22K', '€67K', '€44K', '€15K', '€11K',\n",
       "       '€8K', '€850', '€10K', '€88K', '€500', '€7K', '€6K', '€9K', '€5K',\n",
       "       '€700', '€950', '€750', '€3K', '€650', '€600', '€4K', '€800',\n",
       "       '€550'], dtype=object)"
      ]
     },
     "execution_count": 20,
     "metadata": {},
     "output_type": "execute_result"
    }
   ],
   "source": [
    "df['Wage'].unique()"
   ]
  },
  {
   "cell_type": "code",
   "execution_count": 21,
   "id": "b1c25c0c",
   "metadata": {},
   "outputs": [
    {
     "data": {
      "text/plain": [
       "array(['€138.4M', '€75.9M', '€159.4M', ..., '€59K', '€35K', '€64K'],\n",
       "      dtype=object)"
      ]
     },
     "execution_count": 21,
     "metadata": {},
     "output_type": "execute_result"
    }
   ],
   "source": [
    "df['Release Clause'].unique()"
   ]
  },
  {
   "cell_type": "code",
   "execution_count": 22,
   "id": "fa4866e4",
   "metadata": {
    "scrolled": true
   },
   "outputs": [],
   "source": [
    "# define a function for what we need to do\n",
    "def K_M_convert(x):\n",
    "    # ensure any entries are strings before manipulating\n",
    "    x = str(x)\n",
    "    \n",
    "    # remove any leading euro signs\n",
    "    x = x.replace(\"€\",\"\")\n",
    "    \n",
    "    # dealing with millions\n",
    "    if \"M\" in x:\n",
    "        x = x.replace(\"M\",\"\")\n",
    "        x = float(x) * 1000000\n",
    "    \n",
    "    # dealing with thousands\n",
    "    elif \"K\" in x:\n",
    "        x = x.replace(\"K\",\"\")\n",
    "        x = float(x) * 1000\n",
    "       \n",
    "    # return integer values, dealing with null values as well (used later on)\n",
    "    if x != \"nan\":\n",
    "        x = int(x)\n",
    "        \n",
    "    return x\n",
    "\n",
    "# apply this function to each column\n",
    "df['Value'] = df['Value'].apply(K_M_convert)\n",
    "df['Wage'] = df['Wage'].apply(K_M_convert)\n",
    "df['Release Clause'] = df['Release Clause'].apply(K_M_convert)"
   ]
  },
  {
   "cell_type": "markdown",
   "id": "c5a6ba22",
   "metadata": {},
   "source": [
    "Double check that our function gives the correct output."
   ]
  },
  {
   "cell_type": "code",
   "execution_count": 23,
   "id": "dda739d8",
   "metadata": {},
   "outputs": [
    {
     "data": {
      "text/plain": [
       "array([138400000,  75900000, 159400000, ...,     59000,     35000,\n",
       "           64000], dtype=int64)"
      ]
     },
     "execution_count": 23,
     "metadata": {},
     "output_type": "execute_result"
    }
   ],
   "source": [
    "df['Release Clause'].unique()"
   ]
  },
  {
   "cell_type": "markdown",
   "id": "a06395d2",
   "metadata": {},
   "source": [
    "# Q5. For columns with ★ signs in, remove them. Then convert their data type to numerical.\n",
    "We loop over every column to identify which have ★ signs in. We strip any instances of the ★ sign, and save these columns within a list."
   ]
  },
  {
   "cell_type": "code",
   "execution_count": 24,
   "id": "db030b56",
   "metadata": {},
   "outputs": [],
   "source": [
    "# used to identify which columns have ★ signs in\n",
    "columns_to_convert = []\n",
    "# go over every column and identify their type\n",
    "for column in df:\n",
    "    column_type = df[column].dtype\n",
    "    # pick out the columns with the 'object' type, and also contain a ★ sign somewhere within the column\n",
    "    if column_type == 'object' and df[column].str.contains(\"★\").any():\n",
    "        # add such columns to the columns_to_convert list\n",
    "        columns_to_convert.append(column)\n",
    "        # remove the ★ characters\n",
    "        df[column] = df[column].str.replace(\"★\",\"\")"
   ]
  },
  {
   "cell_type": "markdown",
   "id": "caa3fb1b",
   "metadata": {},
   "source": [
    "Double-check that we have the correct columns saved, and also check whether we should convert these columns to int or float."
   ]
  },
  {
   "cell_type": "code",
   "execution_count": 25,
   "id": "87995590",
   "metadata": {
    "scrolled": true
   },
   "outputs": [
    {
     "data": {
      "text/html": [
       "<div>\n",
       "<style scoped>\n",
       "    .dataframe tbody tr th:only-of-type {\n",
       "        vertical-align: middle;\n",
       "    }\n",
       "\n",
       "    .dataframe tbody tr th {\n",
       "        vertical-align: top;\n",
       "    }\n",
       "\n",
       "    .dataframe thead th {\n",
       "        text-align: right;\n",
       "    }\n",
       "</style>\n",
       "<table border=\"1\" class=\"dataframe\">\n",
       "  <thead>\n",
       "    <tr style=\"text-align: right;\">\n",
       "      <th></th>\n",
       "      <th>W/F</th>\n",
       "      <th>SM</th>\n",
       "      <th>IR</th>\n",
       "    </tr>\n",
       "  </thead>\n",
       "  <tbody>\n",
       "    <tr>\n",
       "      <th>0</th>\n",
       "      <td>4</td>\n",
       "      <td>4</td>\n",
       "      <td>5</td>\n",
       "    </tr>\n",
       "    <tr>\n",
       "      <th>1</th>\n",
       "      <td>4</td>\n",
       "      <td>5</td>\n",
       "      <td>5</td>\n",
       "    </tr>\n",
       "    <tr>\n",
       "      <th>2</th>\n",
       "      <td>3</td>\n",
       "      <td>1</td>\n",
       "      <td>3</td>\n",
       "    </tr>\n",
       "    <tr>\n",
       "      <th>3</th>\n",
       "      <td>5</td>\n",
       "      <td>4</td>\n",
       "      <td>4</td>\n",
       "    </tr>\n",
       "    <tr>\n",
       "      <th>4</th>\n",
       "      <td>5</td>\n",
       "      <td>5</td>\n",
       "      <td>5</td>\n",
       "    </tr>\n",
       "  </tbody>\n",
       "</table>\n",
       "</div>"
      ],
      "text/plain": [
       "  W/F SM  IR\n",
       "0  4   4  5 \n",
       "1  4   5  5 \n",
       "2  3   1  3 \n",
       "3  5   4  4 \n",
       "4  5   5  5 "
      ]
     },
     "execution_count": 25,
     "metadata": {},
     "output_type": "execute_result"
    }
   ],
   "source": [
    "df[['W/F','SM','IR']].head()"
   ]
  },
  {
   "cell_type": "markdown",
   "id": "9c12a829",
   "metadata": {},
   "source": [
    "The correct choice is clearly int."
   ]
  },
  {
   "cell_type": "code",
   "execution_count": 26,
   "id": "a07d0d92",
   "metadata": {
    "scrolled": true
   },
   "outputs": [
    {
     "name": "stdout",
     "output_type": "stream",
     "text": [
      "<class 'pandas.core.frame.DataFrame'>\n",
      "RangeIndex: 18979 entries, 0 to 18978\n",
      "Data columns (total 78 columns):\n",
      " #   Column            Non-Null Count  Dtype         \n",
      "---  ------            --------------  -----         \n",
      " 0   ID                18979 non-null  int64         \n",
      " 1   Name              18979 non-null  object        \n",
      " 2   LongName          18979 non-null  object        \n",
      " 3   photoUrl          18979 non-null  object        \n",
      " 4   playerUrl         18979 non-null  object        \n",
      " 5   Nationality       18979 non-null  object        \n",
      " 6   Age               18979 non-null  int64         \n",
      " 7   ↓OVA              18979 non-null  int64         \n",
      " 8   POT               18979 non-null  int64         \n",
      " 9   Club              18979 non-null  object        \n",
      " 10  Contract          18979 non-null  object        \n",
      " 11  Positions         18979 non-null  object        \n",
      " 12  Height            18979 non-null  int64         \n",
      " 13  Weight            18979 non-null  int64         \n",
      " 14  Preferred Foot    18979 non-null  object        \n",
      " 15  BOV               18979 non-null  int64         \n",
      " 16  Best Position     18979 non-null  object        \n",
      " 17  Joined            18979 non-null  datetime64[ns]\n",
      " 18  Loan Date End     1013 non-null   object        \n",
      " 19  Value             18979 non-null  int64         \n",
      " 20  Wage              18979 non-null  int64         \n",
      " 21  Release Clause    18979 non-null  int64         \n",
      " 22  Attacking         18979 non-null  int64         \n",
      " 23  Crossing          18979 non-null  int64         \n",
      " 24  Finishing         18979 non-null  int64         \n",
      " 25  Heading Accuracy  18979 non-null  int64         \n",
      " 26  Short Passing     18979 non-null  int64         \n",
      " 27  Volleys           18979 non-null  int64         \n",
      " 28  Skill             18979 non-null  int64         \n",
      " 29  Dribbling         18979 non-null  int64         \n",
      " 30  Curve             18979 non-null  int64         \n",
      " 31  FK Accuracy       18979 non-null  int64         \n",
      " 32  Long Passing      18979 non-null  int64         \n",
      " 33  Ball Control      18979 non-null  int64         \n",
      " 34  Movement          18979 non-null  int64         \n",
      " 35  Acceleration      18979 non-null  int64         \n",
      " 36  Sprint Speed      18979 non-null  int64         \n",
      " 37  Agility           18979 non-null  int64         \n",
      " 38  Reactions         18979 non-null  int64         \n",
      " 39  Balance           18979 non-null  int64         \n",
      " 40  Power             18979 non-null  int64         \n",
      " 41  Shot Power        18979 non-null  int64         \n",
      " 42  Jumping           18979 non-null  int64         \n",
      " 43  Stamina           18979 non-null  int64         \n",
      " 44  Strength          18979 non-null  int64         \n",
      " 45  Long Shots        18979 non-null  int64         \n",
      " 46  Mentality         18979 non-null  int64         \n",
      " 47  Aggression        18979 non-null  int64         \n",
      " 48  Interceptions     18979 non-null  int64         \n",
      " 49  Positioning       18979 non-null  int64         \n",
      " 50  Vision            18979 non-null  int64         \n",
      " 51  Penalties         18979 non-null  int64         \n",
      " 52  Composure         18979 non-null  int64         \n",
      " 53  Defending         18979 non-null  int64         \n",
      " 54  Marking           18979 non-null  int64         \n",
      " 55  Standing Tackle   18979 non-null  int64         \n",
      " 56  Sliding Tackle    18979 non-null  int64         \n",
      " 57  Goalkeeping       18979 non-null  int64         \n",
      " 58  GK Diving         18979 non-null  int64         \n",
      " 59  GK Handling       18979 non-null  int64         \n",
      " 60  GK Kicking        18979 non-null  int64         \n",
      " 61  GK Positioning    18979 non-null  int64         \n",
      " 62  GK Reflexes       18979 non-null  int64         \n",
      " 63  Total Stats       18979 non-null  int64         \n",
      " 64  Base Stats        18979 non-null  int64         \n",
      " 65  W/F               18979 non-null  int64         \n",
      " 66  SM                18979 non-null  int64         \n",
      " 67  A/W               18979 non-null  object        \n",
      " 68  D/W               18979 non-null  object        \n",
      " 69  IR                18979 non-null  int64         \n",
      " 70  PAC               18979 non-null  int64         \n",
      " 71  SHO               18979 non-null  int64         \n",
      " 72  PAS               18979 non-null  int64         \n",
      " 73  DRI               18979 non-null  int64         \n",
      " 74  DEF               18979 non-null  int64         \n",
      " 75  PHY               18979 non-null  int64         \n",
      " 76  Hits              16357 non-null  object        \n",
      " 77  ten_years         18979 non-null  bool          \n",
      "dtypes: bool(1), datetime64[ns](1), int64(62), object(14)\n",
      "memory usage: 11.2+ MB\n"
     ]
    }
   ],
   "source": [
    "for column in columns_to_convert:\n",
    "    df[column] = df[column].astype(np.int64)\n",
    "    \n",
    "df.info()"
   ]
  },
  {
   "cell_type": "markdown",
   "id": "ad5ba484",
   "metadata": {},
   "source": [
    "The columns have been converted correctly!"
   ]
  },
  {
   "cell_type": "code",
   "execution_count": 27,
   "id": "45126ccd",
   "metadata": {
    "scrolled": false
   },
   "outputs": [
    {
     "name": "stdout",
     "output_type": "stream",
     "text": [
      "185500000\n"
     ]
    }
   ],
   "source": [
    "print(max(df['Value']))"
   ]
  },
  {
   "cell_type": "markdown",
   "id": "e5eabaff",
   "metadata": {},
   "source": [
    "# Interlude: Further cleaning\n",
    "Before tackling Q6 and conducting any further analyses of the data, there are some further cleaning tasks which should be done. I have been making note of these issues while I was working on questions 1 to 5."
   ]
  },
  {
   "cell_type": "code",
   "execution_count": 28,
   "id": "cff75622",
   "metadata": {},
   "outputs": [
    {
     "data": {
      "text/plain": [
       "['Loan Date End', 'Hits']"
      ]
     },
     "execution_count": 28,
     "metadata": {},
     "output_type": "execute_result"
    }
   ],
   "source": [
    "columns_with_nulls = df.isna().any()\n",
    "df.columns[columns_with_nulls].tolist()"
   ]
  },
  {
   "cell_type": "markdown",
   "id": "c45eefcd",
   "metadata": {},
   "source": [
    "### Dropping columns\n",
    "A few of the columns are not of any use to us. Namely, the 'LongName','photoUrl', 'playerUrl', 'Loan Date End' and 'Release Clause' columns."
   ]
  },
  {
   "cell_type": "code",
   "execution_count": 29,
   "id": "e2a4dfb3",
   "metadata": {},
   "outputs": [],
   "source": [
    "columns_to_drop = ['LongName', 'photoUrl', 'playerUrl', 'Loan Date End']\n",
    "df = df.drop(columns = columns_to_drop, axis = 1)"
   ]
  },
  {
   "cell_type": "markdown",
   "id": "da9de286",
   "metadata": {},
   "source": [
    "### Convert 'Hits' column"
   ]
  },
  {
   "cell_type": "markdown",
   "id": "b2745f66",
   "metadata": {},
   "source": [
    "Observe the values we have within the 'Hits' column."
   ]
  },
  {
   "cell_type": "code",
   "execution_count": 30,
   "id": "0a3fd472",
   "metadata": {
    "scrolled": true
   },
   "outputs": [
    {
     "data": {
      "text/plain": [
       "array(['771', '562', '150', '207', '595', '248', '246', '120', '1.6K',\n",
       "       '130', '321', '189', '175', '96', '118', '216', '212', '154',\n",
       "       '205', '202', '339', '408', '103', '332', '86', '173', '161',\n",
       "       '396', '1.1K', '433', '242', '206', '177', '1.5K', '198', '459',\n",
       "       '117', '119', '209', '84', '187', '165', '203', '65', '336', '126',\n",
       "       '313', '124', '145', '538', '182', '101', '45', '377', '99', '194',\n",
       "       '403', '414', '593', '374', '245', '3.2K', '266', '299', '309',\n",
       "       '215', '265', '211', '112', '337', '70', '159', '688', '116', '63',\n",
       "       '144', '123', '71', '224', '113', '168', '61', '89', '137', '278',\n",
       "       '75', '148', '176', '197', '264', '214', '247', '402', '440',\n",
       "       '1.7K', '2.3K', '171', '320', '657', '87', '259', '200', '255',\n",
       "       '253', '196', '60', '97', '85', '169', '256', '132', '239', '166',\n",
       "       '121', '109', '32', '46', '122', '48', '527', '199', '282', '51',\n",
       "       '1.9K', '642', '155', '323', '288', '497', '509', '79', '49',\n",
       "       '270', '511', '80', '128', '115', '156', '204', '143', '140',\n",
       "       '152', '220', '134', '225', '94', '74', '135', '142', '50', '77',\n",
       "       '40', '107', '193', '179', '34', '64', '453', '57', '81', '28',\n",
       "       '78', '133', '43', '425', '88', '42', '36', '233', '376', '210',\n",
       "       '444', '100', '263', '98', '29', '160', '39', '257', '6', '310',\n",
       "       '138', '62', '293', '285', '362', '66', '69', '58', '21', '20',\n",
       "       '131', '38', '406', '68', '108', '110', '93', '512', '443', '306',\n",
       "       '352', '422', '585', '346', '178', '841', '76', '394', '72', '172',\n",
       "       '44', '407', '230', '367', '295', '157', '243', '56', '111', '326',\n",
       "       '679', '18', '92', '59', '25', '184', '53', '12', '90', '55', '73',\n",
       "       '11', '566', '180', '83', '262', '17', '26', '31', '280', '359',\n",
       "       '213', '297', '387', '480', '381', '677', '486', '8', '244', '129',\n",
       "       '388', '275', '319', '2K', '52', '91', '421', '153', '27', '41',\n",
       "       '222', '35', '102', '23', '30', '33', '146', '13', '19', '14',\n",
       "       '106', '276', '568', '353', '47', '478', '249', '254', '369',\n",
       "       '219', '565', '237', '227', '434', '375', '162', '605', '654', '3',\n",
       "       '7', '9', '104', '114', '186', '446', '756', '22', '139', '500',\n",
       "       '67', '147', '149', '16', '82', '54', '37', '15', '1.3K', '3K',\n",
       "       '952', '5', '749', '541', '330', '393', '517', '770', '409', '170',\n",
       "       '125', '283', '342', '363', '580', '105', '217', '24', '141', '10',\n",
       "       '427', '158', '426', '4', '666', '181', '324', '979', '1.4K',\n",
       "       '302', '751', '298', '411', '944', '2', '947', '292', '349', '621',\n",
       "       '1', '2.8K', '338', '287', '261', '218', '1.8K', '240', '279',\n",
       "       '229', '188', '315', '664', '613', '190', '706', '127', '462',\n",
       "       '386', '695', '491', '167', '281', '250', '307', '95', '231',\n",
       "       '174', '680', '633', '221', '348', '602', '183', '653', '195',\n",
       "       '164', '151', '258', '8.4K', '343', '419', '655', '136', '399',\n",
       "       '531', '357', '228', '385', '312', '340', '238', '487', '355',\n",
       "       '499', '4.3K', '296', '515', '943', '1.2K', '903', '335', '191',\n",
       "       '594', '267', '617', '516', '504', '331', '652', '410', '550',\n",
       "       '473', '442', '344', '208', '1K', '2.5K', '273', '485', '826',\n",
       "       '192', '405', '941', '477', '644', '303', '417', '6K', nan],\n",
       "      dtype=object)"
      ]
     },
     "execution_count": 30,
     "metadata": {},
     "output_type": "execute_result"
    }
   ],
   "source": [
    "df['Hits'].unique()"
   ]
  },
  {
   "cell_type": "code",
   "execution_count": 31,
   "id": "3041bb3d",
   "metadata": {},
   "outputs": [
    {
     "data": {
      "text/plain": [
       "<class 'str'>      16357\n",
       "<class 'float'>     2622\n",
       "Name: Hits, dtype: int64"
      ]
     },
     "execution_count": 31,
     "metadata": {},
     "output_type": "execute_result"
    }
   ],
   "source": [
    "df.Hits.apply(type).value_counts()"
   ]
  },
  {
   "cell_type": "code",
   "execution_count": 32,
   "id": "6d056840",
   "metadata": {},
   "outputs": [
    {
     "data": {
      "text/plain": [
       "2622"
      ]
     },
     "execution_count": 32,
     "metadata": {},
     "output_type": "execute_result"
    }
   ],
   "source": [
    "df['Hits'].isna().sum()"
   ]
  },
  {
   "cell_type": "markdown",
   "id": "a06e3122",
   "metadata": {},
   "source": [
    "There are entries with 'K' in, so we will use the K_M_convert we defined in Q4 to convert these. There are some 'float' entries in the column, but we can see that these are actually 'nan' values. We cannot simply set these to 0. Since it is unclear how to deal with these, we have to make sure that they are kept as they are. The K_M_convert function has been defined such that this is the case."
   ]
  },
  {
   "cell_type": "code",
   "execution_count": 33,
   "id": "b008f33c",
   "metadata": {},
   "outputs": [],
   "source": [
    "df['Hits'] = df['Hits'].apply(K_M_convert)"
   ]
  },
  {
   "cell_type": "code",
   "execution_count": 34,
   "id": "b253d0df",
   "metadata": {
    "scrolled": true
   },
   "outputs": [
    {
     "data": {
      "text/plain": [
       "array([771, 562, 150, 207, 595, 248, 246, 120, 1600, 130, 321, 189, 175,\n",
       "       96, 118, 216, 212, 154, 205, 202, 339, 408, 103, 332, 86, 173, 161,\n",
       "       396, 1100, 433, 242, 206, 177, 1500, 198, 459, 117, 119, 209, 84,\n",
       "       187, 165, 203, 65, 336, 126, 313, 124, 145, 538, 182, 101, 45, 377,\n",
       "       99, 194, 403, 414, 593, 374, 245, 3200, 266, 299, 309, 215, 265,\n",
       "       211, 112, 337, 70, 159, 688, 116, 63, 144, 123, 71, 224, 113, 168,\n",
       "       61, 89, 137, 278, 75, 148, 176, 197, 264, 214, 247, 402, 440, 1700,\n",
       "       2300, 171, 320, 657, 87, 259, 200, 255, 253, 196, 60, 97, 85, 169,\n",
       "       256, 132, 239, 166, 121, 109, 32, 46, 122, 48, 527, 199, 282, 51,\n",
       "       1900, 642, 155, 323, 288, 497, 509, 79, 49, 270, 511, 80, 128, 115,\n",
       "       156, 204, 143, 140, 152, 220, 134, 225, 94, 74, 135, 142, 50, 77,\n",
       "       40, 107, 193, 179, 34, 64, 453, 57, 81, 28, 78, 133, 43, 425, 88,\n",
       "       42, 36, 233, 376, 210, 444, 100, 263, 98, 29, 160, 39, 257, 6, 310,\n",
       "       138, 62, 293, 285, 362, 66, 69, 58, 21, 20, 131, 38, 406, 68, 108,\n",
       "       110, 93, 512, 443, 306, 352, 422, 585, 346, 178, 841, 76, 394, 72,\n",
       "       172, 44, 407, 230, 367, 295, 157, 243, 56, 111, 326, 679, 18, 92,\n",
       "       59, 25, 184, 53, 12, 90, 55, 73, 11, 566, 180, 83, 262, 17, 26, 31,\n",
       "       280, 359, 213, 297, 387, 480, 381, 677, 486, 8, 244, 129, 388, 275,\n",
       "       319, 2000, 52, 91, 421, 153, 27, 41, 222, 35, 102, 23, 30, 33, 146,\n",
       "       13, 19, 14, 106, 276, 568, 353, 47, 478, 249, 254, 369, 219, 565,\n",
       "       237, 227, 434, 375, 162, 605, 654, 3, 7, 9, 104, 114, 186, 446,\n",
       "       756, 22, 139, 500, 67, 147, 149, 16, 82, 54, 37, 15, 1300, 3000,\n",
       "       952, 5, 749, 541, 330, 393, 517, 770, 409, 170, 125, 283, 342, 363,\n",
       "       580, 105, 217, 24, 141, 10, 427, 158, 426, 4, 666, 181, 324, 979,\n",
       "       1400, 302, 751, 298, 411, 944, 2, 947, 292, 349, 621, 1, 2800, 338,\n",
       "       287, 261, 218, 1800, 240, 279, 229, 188, 315, 664, 613, 190, 706,\n",
       "       127, 462, 386, 695, 491, 167, 281, 250, 307, 95, 231, 174, 680,\n",
       "       633, 221, 348, 602, 183, 653, 195, 164, 151, 258, 8400, 343, 419,\n",
       "       655, 136, 399, 531, 357, 228, 385, 312, 340, 238, 487, 355, 499,\n",
       "       4300, 296, 515, 943, 1200, 903, 335, 191, 594, 267, 617, 516, 504,\n",
       "       331, 652, 410, 550, 473, 442, 344, 208, 1000, 2500, 273, 485, 826,\n",
       "       192, 405, 941, 477, 644, 303, 417, 6000, 'nan'], dtype=object)"
      ]
     },
     "execution_count": 34,
     "metadata": {},
     "output_type": "execute_result"
    }
   ],
   "source": [
    "df['Hits'].unique()"
   ]
  },
  {
   "cell_type": "code",
   "execution_count": 35,
   "id": "7c9570f7",
   "metadata": {
    "scrolled": true
   },
   "outputs": [
    {
     "data": {
      "text/plain": [
       "<class 'int'>    16357\n",
       "<class 'str'>     2622\n",
       "Name: Hits, dtype: int64"
      ]
     },
     "execution_count": 35,
     "metadata": {},
     "output_type": "execute_result"
    }
   ],
   "source": [
    "df.Hits.apply(type).value_counts()"
   ]
  },
  {
   "cell_type": "markdown",
   "id": "538e4382",
   "metadata": {},
   "source": [
    "We have successfully formatted this column, while keeping the nan values intact."
   ]
  },
  {
   "cell_type": "markdown",
   "id": "5f91d630",
   "metadata": {},
   "source": [
    "# Q6. Which players are valuable yet underpaid? "
   ]
  },
  {
   "cell_type": "code",
   "execution_count": 36,
   "id": "25358f12",
   "metadata": {},
   "outputs": [
    {
     "name": "stderr",
     "output_type": "stream",
     "text": [
      "<ipython-input-36-afa917379305>:12: UserWarning: FixedFormatter should only be used together with FixedLocator\n",
      "  g.set_xticklabels(xticklabels);\n",
      "<ipython-input-36-afa917379305>:17: UserWarning: FixedFormatter should only be used together with FixedLocator\n",
      "  g.set_yticklabels(yticklabels);\n"
     ]
    },
    {
     "data": {
      "image/png": "[encoded data removed]",
      "text/plain": [
       "<Figure size 432x288 with 1 Axes>"
      ]
     },
     "metadata": {},
     "output_type": "display_data"
    }
   ],
   "source": [
    "# set a background\n",
    "sns.set(style = 'darkgrid')\n",
    "\n",
    "# set a scatterplot with a regression line\n",
    "g = sns.regplot(data = df, x = 'Wage', y = 'Value', \n",
    "                scatter_kws = {'color' : 'blue', 'alpha' : 0.5}, \n",
    "                line_kws = {'color' : 'red'})\n",
    "\n",
    "# format the x ticks more clearly\n",
    "xticklabels = [\"{:.0f}\".format(x) + \"K\" for x in g.get_xticks()/1000];\n",
    "# set_xticklabels prints a list, so use a semicolon to mute the output\n",
    "g.set_xticklabels(xticklabels);\n",
    "\n",
    "# format the y ticks\n",
    "yticklabels = [\"{:.0f}\".format(y) + \"M\" for y in g.get_yticks()/1000000];\n",
    "# use a semicolon again\n",
    "g.set_yticklabels(yticklabels);\n"
   ]
  },
  {
   "cell_type": "markdown",
   "id": "19b5afe6",
   "metadata": {},
   "source": [
    "There are many outliers here, but there are two clear anomalies which we will identify. Namely, those players with the highest value and the highest wage respectively."
   ]
  },
  {
   "cell_type": "code",
   "execution_count": 37,
   "id": "67692132",
   "metadata": {},
   "outputs": [
    {
     "data": {
      "text/plain": [
       "8    K. Mbappé\n",
       "Name: Name, dtype: object"
      ]
     },
     "execution_count": 37,
     "metadata": {},
     "output_type": "execute_result"
    }
   ],
   "source": [
    "max_value = max(df['Value'])\n",
    "df[df['Value'] == max_value]['Name']"
   ]
  },
  {
   "cell_type": "code",
   "execution_count": 38,
   "id": "4aaca4b2",
   "metadata": {},
   "outputs": [
    {
     "data": {
      "text/plain": [
       "0    L. Messi\n",
       "Name: Name, dtype: object"
      ]
     },
     "execution_count": 38,
     "metadata": {},
     "output_type": "execute_result"
    }
   ],
   "source": [
    "max_wage = max(df['Wage'])\n",
    "df[df['Wage'] == max_wage]['Name']"
   ]
  },
  {
   "cell_type": "markdown",
   "id": "a80a5956",
   "metadata": {},
   "source": [
    "We can see that at the time FIFA21 was made, Kilian Mbappé was the most underpriced player in the world, whereas Lionel Messi was the most overpriced!"
   ]
  }
 ],
 "metadata": {
  "kernelspec": {
   "display_name": "Python 3",
   "language": "python",
   "name": "python3"
  },
  "language_info": {
   "codemirror_mode": {
    "name": "ipython",
    "version": 3
   },
   "file_extension": ".py",
   "mimetype": "text/x-python",
   "name": "python",
   "nbconvert_exporter": "python",
   "pygments_lexer": "ipython3",
   "version": "3.8.8"
  }
 },
 "nbformat": 4,
 "nbformat_minor": 5
}
